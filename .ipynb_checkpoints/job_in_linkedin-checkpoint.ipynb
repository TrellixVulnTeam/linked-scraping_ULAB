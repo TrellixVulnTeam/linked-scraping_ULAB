{
 "cells": [
  {
   "cell_type": "code",
   "execution_count": 1,
   "id": "3610bd31",
   "metadata": {},
   "outputs": [],
   "source": [
    "from selenium import webdriver\n",
    "from selenium.webdriver.common.action_chains import ActionChains\n",
    "from selenium.webdriver.common.keys import Keys\n",
    "import selenium, time, scrapy\n",
    "from scrapy.selector import Selector"
   ]
  },
  {
   "cell_type": "code",
   "execution_count": 2,
   "id": "6b2ecae5",
   "metadata": {},
   "outputs": [],
   "source": [
    "driver = webdriver.Chrome('./chromedriver_linux64/chromedriver')"
   ]
  },
  {
   "cell_type": "code",
   "execution_count": 3,
   "id": "b9cf635a",
   "metadata": {},
   "outputs": [],
   "source": [
    "driver.get('https://www.linkedin.com/uas/login?session_redirect=https%3A%2F%2Fwww%2Elinkedin%2Ecom%2Ffeed%2F%3Ftrk%3Donboarding-landing&fromSignIn=true&trk=cold_join_sign_in')"
   ]
  },
  {
   "cell_type": "code",
   "execution_count": 4,
   "id": "ac3f0f10",
   "metadata": {},
   "outputs": [],
   "source": [
    "username = driver.find_element_by_id('username')"
   ]
  },
  {
   "cell_type": "code",
   "execution_count": 5,
   "id": "8e8f18df",
   "metadata": {},
   "outputs": [],
   "source": [
    "username.clear()\n",
    "username.send_keys('powerofknowledge1997@gmail.com')"
   ]
  },
  {
   "cell_type": "code",
   "execution_count": 6,
   "id": "5f5b4b6e",
   "metadata": {},
   "outputs": [],
   "source": [
    "password = driver.find_element_by_id('password')"
   ]
  },
  {
   "cell_type": "code",
   "execution_count": 7,
   "id": "351e9373",
   "metadata": {},
   "outputs": [],
   "source": [
    "password.clear()\n",
    "password.send_keys('sanjay12#')"
   ]
  },
  {
   "cell_type": "code",
   "execution_count": 8,
   "id": "80bb4a13",
   "metadata": {},
   "outputs": [],
   "source": [
    "driver.find_element_by_class_name('btn__primary--large').click()"
   ]
  },
  {
   "cell_type": "code",
   "execution_count": 12,
   "id": "899dfea3",
   "metadata": {},
   "outputs": [],
   "source": [
    "driver.find_elements_by_class_name('global-nav__primary-item')[2].click()"
   ]
  },
  {
   "cell_type": "code",
   "execution_count": null,
   "id": "725121f5",
   "metadata": {},
   "outputs": [],
   "source": []
  },
  {
   "cell_type": "markdown",
   "id": "c7c14d98",
   "metadata": {},
   "source": [
    "# search "
   ]
  },
  {
   "cell_type": "code",
   "execution_count": 72,
   "id": "37b75fd2",
   "metadata": {},
   "outputs": [],
   "source": [
    "job_div = driver.find_element_by_class_name('jobs-search-box__input--keyword')"
   ]
  },
  {
   "cell_type": "code",
   "execution_count": 75,
   "id": "eadd51ad",
   "metadata": {},
   "outputs": [],
   "source": [
    "job_div.find_element_by_class_name(\"jobs-search-box__keyboard-text-input\").send_keys('python developer')"
   ]
  },
  {
   "cell_type": "code",
   "execution_count": null,
   "id": "262ba6d7",
   "metadata": {},
   "outputs": [],
   "source": []
  },
  {
   "cell_type": "code",
   "execution_count": 115,
   "id": "0b22968c",
   "metadata": {},
   "outputs": [],
   "source": [
    "location_job = driver.find_element_by_class_name('jobs-search-box__input--location')"
   ]
  },
  {
   "cell_type": "code",
   "execution_count": 134,
   "id": "3d5f1ae3",
   "metadata": {},
   "outputs": [],
   "source": [
    "st1 = driver.find_elements_by_css_selector('input.jobs-search-box__text-input')[0].send_keys('india')"
   ]
  },
  {
   "cell_type": "code",
   "execution_count": null,
   "id": "3c73db35",
   "metadata": {},
   "outputs": [],
   "source": []
  },
  {
   "cell_type": "code",
   "execution_count": null,
   "id": "ac654786",
   "metadata": {},
   "outputs": [],
   "source": []
  },
  {
   "cell_type": "code",
   "execution_count": 151,
   "id": "81e884df",
   "metadata": {},
   "outputs": [],
   "source": [
    "driver.find_element_by_class_name('jobs-search-box__submit-button').click()\n",
    "# jobs-search-box__submit-button\n",
    "#       artdeco-button artdeco-button--2 artdeco-button--secondary"
   ]
  },
  {
   "cell_type": "code",
   "execution_count": null,
   "id": "3c2900cb",
   "metadata": {},
   "outputs": [],
   "source": []
  },
  {
   "cell_type": "code",
   "execution_count": null,
   "id": "51e0a766",
   "metadata": {},
   "outputs": [],
   "source": []
  },
  {
   "cell_type": "markdown",
   "id": "fb004c07",
   "metadata": {},
   "source": [
    "# now handling the links of the page and pagination"
   ]
  },
  {
   "cell_type": "code",
   "execution_count": 172,
   "id": "035ce483",
   "metadata": {},
   "outputs": [],
   "source": [
    "# tpage down using or scrolling using page down key\n",
    "for _ in range(6):\n",
    "    body = driver.find_element_by_css_selector('div.jobs-search-results.display-flex.flex-column')\n",
    "    time.sleep(5)"
   ]
  },
  {
   "cell_type": "code",
   "execution_count": 173,
   "id": "75d395e3",
   "metadata": {},
   "outputs": [],
   "source": [
    "list_of_results = driver.find_elements_by_class_name('jobs-search-results__list-item')"
   ]
  },
  {
   "cell_type": "code",
   "execution_count": 176,
   "id": "3fe80007",
   "metadata": {
    "collapsed": true
   },
   "outputs": [
    {
     "name": "stdout",
     "output_type": "stream",
     "text": [
      "0 ===== https://www.linkedin.com/jobs/view/2682944157/?eBP=JOB_SEARCH_ORGANIC&recommendedFlavor=JOB_SEEKER_QUALIFIED&refId=vGUpWyYQSt2K0b%2BOWEE%2FEQ%3D%3D&trackingId=L1Z8bhr8Vx43rHFMDEk9mg%3D%3D&trk=flagship3_search_srp_jobs\n",
      "1 ===== https://www.linkedin.com/jobs/view/2688190977/?eBP=JOB_SEARCH_ORGANIC&recommendedFlavor=ACTIVELY_HIRING_COMPANY&refId=vGUpWyYQSt2K0b%2BOWEE%2FEQ%3D%3D&trackingId=tx2oVWY4ogoIhc4IgKNgRA%3D%3D&trk=flagship3_search_srp_jobs\n",
      "2 ===== https://www.linkedin.com/jobs/view/2688172953/?eBP=JOB_SEARCH_ORGANIC&recommendedFlavor=ACTIVELY_HIRING_COMPANY&refId=vGUpWyYQSt2K0b%2BOWEE%2FEQ%3D%3D&trackingId=oD9k%2Bde5jXrlPy6AjC3WPw%3D%3D&trk=flagship3_search_srp_jobs\n",
      "3 ===== https://www.linkedin.com/jobs/view/2682945964/?eBP=JOB_SEARCH_ORGANIC&recommendedFlavor=JOB_SEEKER_QUALIFIED&refId=vGUpWyYQSt2K0b%2BOWEE%2FEQ%3D%3D&trackingId=otzH6C%2BNs6iQM4M%2BJ8wovg%3D%3D&trk=flagship3_search_srp_jobs\n",
      "4 ===== https://www.linkedin.com/jobs/view/2682998071/?eBP=JOB_SEARCH_ORGANIC&recommendedFlavor=ACTIVELY_HIRING_COMPANY&refId=vGUpWyYQSt2K0b%2BOWEE%2FEQ%3D%3D&trackingId=QO0i7FmL78eKX%2FI1GgDpvg%3D%3D&trk=flagship3_search_srp_jobs\n",
      "5 ===== https://www.linkedin.com/jobs/view/2682388409/?eBP=JOB_SEARCH_ORGANIC&recommendedFlavor=ACTIVELY_HIRING_COMPANY&refId=vGUpWyYQSt2K0b%2BOWEE%2FEQ%3D%3D&trackingId=ZFRKe5GJz5O8gcyNG4csog%3D%3D&trk=flagship3_search_srp_jobs\n",
      "6 ===== https://www.linkedin.com/jobs/view/2682934373/?eBP=JOB_SEARCH_ORGANIC&recommendedFlavor=ACTIVELY_HIRING_COMPANY&refId=vGUpWyYQSt2K0b%2BOWEE%2FEQ%3D%3D&trackingId=vrYZ0ImfJlqtYXAaYJnE%2Fw%3D%3D&trk=flagship3_search_srp_jobs\n",
      "7 ===== https://www.linkedin.com/jobs/view/2687696289/?eBP=JOB_SEARCH_ORGANIC&recommendedFlavor=ACTIVELY_HIRING_COMPANY&refId=vGUpWyYQSt2K0b%2BOWEE%2FEQ%3D%3D&trackingId=T65csMpeDEqGcdof8cyquA%3D%3D&trk=flagship3_search_srp_jobs\n",
      "8 ===== https://www.linkedin.com/jobs/view/2685599659/?eBP=JOB_SEARCH_ORGANIC&refId=vGUpWyYQSt2K0b%2BOWEE%2FEQ%3D%3D&trackingId=8adgKv8g2roYkOZ84cOeew%3D%3D&trk=flagship3_search_srp_jobs\n",
      "9 ===== https://www.linkedin.com/jobs/view/2686209169/?eBP=JOB_SEARCH_ORGANIC&recommendedFlavor=JOB_SEEKER_QUALIFIED&refId=vGUpWyYQSt2K0b%2BOWEE%2FEQ%3D%3D&trackingId=a6s03LM89Xh6l8CC%2Fnj0mA%3D%3D&trk=flagship3_search_srp_jobs\n",
      "10 ===== https://www.linkedin.com/jobs/view/2688115722/?eBP=JOB_SEARCH_ORGANIC&recommendedFlavor=JOB_SEEKER_QUALIFIED&refId=vGUpWyYQSt2K0b%2BOWEE%2FEQ%3D%3D&trackingId=foT0V7rxw8Z%2Fg5M83IAtBg%3D%3D&trk=flagship3_search_srp_jobs\n",
      "11 ===== https://www.linkedin.com/jobs/view/2682908719/?eBP=JOB_SEARCH_ORGANIC&recommendedFlavor=ACTIVELY_HIRING_COMPANY&refId=vGUpWyYQSt2K0b%2BOWEE%2FEQ%3D%3D&trackingId=GsipanZ%2FkX9tUwKZk2roQQ%3D%3D&trk=flagship3_search_srp_jobs\n",
      "12 ===== https://www.linkedin.com/jobs/view/2681808932/?eBP=JOB_SEARCH_ORGANIC&recommendedFlavor=ACTIVELY_HIRING_COMPANY&refId=vGUpWyYQSt2K0b%2BOWEE%2FEQ%3D%3D&trackingId=P0JPjyYgBqFBMcanC%2BTUBw%3D%3D&trk=flagship3_search_srp_jobs\n",
      "13 ===== https://www.linkedin.com/jobs/view/2683504518/?eBP=JOB_SEARCH_ORGANIC&recommendedFlavor=ACTIVELY_HIRING_COMPANY&refId=vGUpWyYQSt2K0b%2BOWEE%2FEQ%3D%3D&trackingId=IXfMX375jZAcDZk6E4Xh3g%3D%3D&trk=flagship3_search_srp_jobs\n",
      "14 ===== https://www.linkedin.com/jobs/view/2686239123/?eBP=JOB_SEARCH_ORGANIC&recommendedFlavor=ACTIVELY_HIRING_COMPANY&refId=vGUpWyYQSt2K0b%2BOWEE%2FEQ%3D%3D&trackingId=AVIoh%2F8ez6yamTHYZ2v2Jg%3D%3D&trk=flagship3_search_srp_jobs\n",
      "15 ===== https://www.linkedin.com/jobs/view/2593013640/?eBP=CwEAAAF7Wxv-NIK2UksoY8UvatqughjVA1v4xtKW6v6K92PZ7PLr1LTkyagxULrQ19zbi5VsQki_l1hIgrcC6sR-BrGTgAeAPCToaF8sT0R9_H_szwhLxqJYu8-48HN6LzH_LB1kaXvPPwhO5w_QNYrBJJ6XVwWObI_v9n5c-r55KyYY5wnfMz1JBFfRHq_PX_AsMIzj-HcreFNQvf5jK1knRF69FiZSjpZp8JgQmIkNoyL4MJYXvUzWCu98AXVMNn1BEaB9h-7I0Y44_fxi-jHgDr3zTHpDv7XRCLCkxijs8mkH0aArI14RCumP2w65kXWxc_DDtC0iA5CZQcIHY-vMgp63EcdZoV7WAbiFS69qIcLzHrOw9O9Fd4AMjnZkypYTTV7n&recommendedFlavor=ACTIVELY_HIRING_COMPANY&refId=vGUpWyYQSt2K0b%2BOWEE%2FEQ%3D%3D&trackingId=iRRd3xfsKgN9cShhn9AJ%2FA%3D%3D&trk=flagship3_search_srp_jobs\n",
      "16 ===== https://www.linkedin.com/jobs/view/2687942770/?eBP=JOB_SEARCH_ORGANIC&refId=vGUpWyYQSt2K0b%2BOWEE%2FEQ%3D%3D&trackingId=pRGjEqAPvJxja5Q7x0j9hw%3D%3D&trk=flagship3_search_srp_jobs\n",
      "17 ===== https://www.linkedin.com/jobs/view/2682927656/?eBP=JOB_SEARCH_ORGANIC&refId=vGUpWyYQSt2K0b%2BOWEE%2FEQ%3D%3D&trackingId=lznNDH1Bclhaki4QEfyImg%3D%3D&trk=flagship3_search_srp_jobs\n",
      "18 ===== https://www.linkedin.com/jobs/view/2682922258/?eBP=JOB_SEARCH_ORGANIC&recommendedFlavor=ACTIVELY_HIRING_COMPANY&refId=vGUpWyYQSt2K0b%2BOWEE%2FEQ%3D%3D&trackingId=bFFqGJqV0V%2FKEUFSa8fcVg%3D%3D&trk=flagship3_search_srp_jobs\n",
      "19 ===== https://www.linkedin.com/jobs/view/2687993304/?eBP=JOB_SEARCH_ORGANIC&refId=vGUpWyYQSt2K0b%2BOWEE%2FEQ%3D%3D&trackingId=qqD00hzoxYPPiZCi%2BUZD7g%3D%3D&trk=flagship3_search_srp_jobs\n",
      "20 ===== https://www.linkedin.com/jobs/view/2686235401/?eBP=JOB_SEARCH_ORGANIC&recommendedFlavor=ACTIVELY_HIRING_COMPANY&refId=vGUpWyYQSt2K0b%2BOWEE%2FEQ%3D%3D&trackingId=t58S%2B%2BBHCwCikhfte5ADDQ%3D%3D&trk=flagship3_search_srp_jobs\n",
      "21 ===== https://www.linkedin.com/jobs/view/2683538359/?eBP=JOB_SEARCH_ORGANIC&recommendedFlavor=ACTIVELY_HIRING_COMPANY&refId=vGUpWyYQSt2K0b%2BOWEE%2FEQ%3D%3D&trackingId=mKtaGcRRjme0ESU5%2F4BDiw%3D%3D&trk=flagship3_search_srp_jobs\n"
     ]
    },
    {
     "ename": "NoSuchElementException",
     "evalue": "Message: no such element: Unable to locate element: {\"method\":\"css selector\",\"selector\":\"a\"}\n  (Session info: chrome=92.0.4515.159)\n",
     "output_type": "error",
     "traceback": [
      "\u001b[0;31m---------------------------------------------------------------------------\u001b[0m",
      "\u001b[0;31mNoSuchElementException\u001b[0m                    Traceback (most recent call last)",
      "\u001b[0;32m/tmp/ipykernel_34408/2883714742.py\u001b[0m in \u001b[0;36m<module>\u001b[0;34m\u001b[0m\n\u001b[1;32m      1\u001b[0m \u001b[0;32mfor\u001b[0m \u001b[0mv\u001b[0m\u001b[0;34m,\u001b[0m\u001b[0mi\u001b[0m \u001b[0;32min\u001b[0m \u001b[0menumerate\u001b[0m\u001b[0;34m(\u001b[0m\u001b[0mlist_of_results\u001b[0m\u001b[0;34m)\u001b[0m\u001b[0;34m:\u001b[0m\u001b[0;34m\u001b[0m\u001b[0;34m\u001b[0m\u001b[0m\n\u001b[0;32m----> 2\u001b[0;31m     \u001b[0mprint\u001b[0m\u001b[0;34m(\u001b[0m\u001b[0mv\u001b[0m\u001b[0;34m,\u001b[0m\u001b[0;34m'====='\u001b[0m\u001b[0;34m,\u001b[0m\u001b[0mi\u001b[0m\u001b[0;34m.\u001b[0m\u001b[0mfind_element_by_tag_name\u001b[0m\u001b[0;34m(\u001b[0m\u001b[0;34m'a'\u001b[0m\u001b[0;34m)\u001b[0m\u001b[0;34m.\u001b[0m\u001b[0mget_attribute\u001b[0m\u001b[0;34m(\u001b[0m\u001b[0;34m'href'\u001b[0m\u001b[0;34m)\u001b[0m\u001b[0;34m)\u001b[0m\u001b[0;34m\u001b[0m\u001b[0;34m\u001b[0m\u001b[0m\n\u001b[0m",
      "\u001b[0;32m~/Desktop/linked-scraping/venv/lib/python3.9/site-packages/selenium/webdriver/remote/webelement.py\u001b[0m in \u001b[0;36mfind_element_by_tag_name\u001b[0;34m(self, name)\u001b[0m\n\u001b[1;32m    303\u001b[0m             \u001b[0melement\u001b[0m \u001b[0;34m=\u001b[0m \u001b[0melement\u001b[0m\u001b[0;34m.\u001b[0m\u001b[0mfind_element_by_tag_name\u001b[0m\u001b[0;34m(\u001b[0m\u001b[0;34m'h1'\u001b[0m\u001b[0;34m)\u001b[0m\u001b[0;34m\u001b[0m\u001b[0;34m\u001b[0m\u001b[0m\n\u001b[1;32m    304\u001b[0m         \"\"\"\n\u001b[0;32m--> 305\u001b[0;31m         \u001b[0;32mreturn\u001b[0m \u001b[0mself\u001b[0m\u001b[0;34m.\u001b[0m\u001b[0mfind_element\u001b[0m\u001b[0;34m(\u001b[0m\u001b[0mby\u001b[0m\u001b[0;34m=\u001b[0m\u001b[0mBy\u001b[0m\u001b[0;34m.\u001b[0m\u001b[0mTAG_NAME\u001b[0m\u001b[0;34m,\u001b[0m \u001b[0mvalue\u001b[0m\u001b[0;34m=\u001b[0m\u001b[0mname\u001b[0m\u001b[0;34m)\u001b[0m\u001b[0;34m\u001b[0m\u001b[0;34m\u001b[0m\u001b[0m\n\u001b[0m\u001b[1;32m    306\u001b[0m \u001b[0;34m\u001b[0m\u001b[0m\n\u001b[1;32m    307\u001b[0m     \u001b[0;32mdef\u001b[0m \u001b[0mfind_elements_by_tag_name\u001b[0m\u001b[0;34m(\u001b[0m\u001b[0mself\u001b[0m\u001b[0;34m,\u001b[0m \u001b[0mname\u001b[0m\u001b[0;34m)\u001b[0m\u001b[0;34m:\u001b[0m\u001b[0;34m\u001b[0m\u001b[0;34m\u001b[0m\u001b[0m\n",
      "\u001b[0;32m~/Desktop/linked-scraping/venv/lib/python3.9/site-packages/selenium/webdriver/remote/webelement.py\u001b[0m in \u001b[0;36mfind_element\u001b[0;34m(self, by, value)\u001b[0m\n\u001b[1;32m    656\u001b[0m                 \u001b[0mvalue\u001b[0m \u001b[0;34m=\u001b[0m \u001b[0;34m'[name=\"%s\"]'\u001b[0m \u001b[0;34m%\u001b[0m \u001b[0mvalue\u001b[0m\u001b[0;34m\u001b[0m\u001b[0;34m\u001b[0m\u001b[0m\n\u001b[1;32m    657\u001b[0m \u001b[0;34m\u001b[0m\u001b[0m\n\u001b[0;32m--> 658\u001b[0;31m         return self._execute(Command.FIND_CHILD_ELEMENT,\n\u001b[0m\u001b[1;32m    659\u001b[0m                              {\"using\": by, \"value\": value})['value']\n\u001b[1;32m    660\u001b[0m \u001b[0;34m\u001b[0m\u001b[0m\n",
      "\u001b[0;32m~/Desktop/linked-scraping/venv/lib/python3.9/site-packages/selenium/webdriver/remote/webelement.py\u001b[0m in \u001b[0;36m_execute\u001b[0;34m(self, command, params)\u001b[0m\n\u001b[1;32m    631\u001b[0m             \u001b[0mparams\u001b[0m \u001b[0;34m=\u001b[0m \u001b[0;34m{\u001b[0m\u001b[0;34m}\u001b[0m\u001b[0;34m\u001b[0m\u001b[0;34m\u001b[0m\u001b[0m\n\u001b[1;32m    632\u001b[0m         \u001b[0mparams\u001b[0m\u001b[0;34m[\u001b[0m\u001b[0;34m'id'\u001b[0m\u001b[0;34m]\u001b[0m \u001b[0;34m=\u001b[0m \u001b[0mself\u001b[0m\u001b[0;34m.\u001b[0m\u001b[0m_id\u001b[0m\u001b[0;34m\u001b[0m\u001b[0;34m\u001b[0m\u001b[0m\n\u001b[0;32m--> 633\u001b[0;31m         \u001b[0;32mreturn\u001b[0m \u001b[0mself\u001b[0m\u001b[0;34m.\u001b[0m\u001b[0m_parent\u001b[0m\u001b[0;34m.\u001b[0m\u001b[0mexecute\u001b[0m\u001b[0;34m(\u001b[0m\u001b[0mcommand\u001b[0m\u001b[0;34m,\u001b[0m \u001b[0mparams\u001b[0m\u001b[0;34m)\u001b[0m\u001b[0;34m\u001b[0m\u001b[0;34m\u001b[0m\u001b[0m\n\u001b[0m\u001b[1;32m    634\u001b[0m \u001b[0;34m\u001b[0m\u001b[0m\n\u001b[1;32m    635\u001b[0m     \u001b[0;32mdef\u001b[0m \u001b[0mfind_element\u001b[0m\u001b[0;34m(\u001b[0m\u001b[0mself\u001b[0m\u001b[0;34m,\u001b[0m \u001b[0mby\u001b[0m\u001b[0;34m=\u001b[0m\u001b[0mBy\u001b[0m\u001b[0;34m.\u001b[0m\u001b[0mID\u001b[0m\u001b[0;34m,\u001b[0m \u001b[0mvalue\u001b[0m\u001b[0;34m=\u001b[0m\u001b[0;32mNone\u001b[0m\u001b[0;34m)\u001b[0m\u001b[0;34m:\u001b[0m\u001b[0;34m\u001b[0m\u001b[0;34m\u001b[0m\u001b[0m\n",
      "\u001b[0;32m~/Desktop/linked-scraping/venv/lib/python3.9/site-packages/selenium/webdriver/remote/webdriver.py\u001b[0m in \u001b[0;36mexecute\u001b[0;34m(self, driver_command, params)\u001b[0m\n\u001b[1;32m    319\u001b[0m         \u001b[0mresponse\u001b[0m \u001b[0;34m=\u001b[0m \u001b[0mself\u001b[0m\u001b[0;34m.\u001b[0m\u001b[0mcommand_executor\u001b[0m\u001b[0;34m.\u001b[0m\u001b[0mexecute\u001b[0m\u001b[0;34m(\u001b[0m\u001b[0mdriver_command\u001b[0m\u001b[0;34m,\u001b[0m \u001b[0mparams\u001b[0m\u001b[0;34m)\u001b[0m\u001b[0;34m\u001b[0m\u001b[0;34m\u001b[0m\u001b[0m\n\u001b[1;32m    320\u001b[0m         \u001b[0;32mif\u001b[0m \u001b[0mresponse\u001b[0m\u001b[0;34m:\u001b[0m\u001b[0;34m\u001b[0m\u001b[0;34m\u001b[0m\u001b[0m\n\u001b[0;32m--> 321\u001b[0;31m             \u001b[0mself\u001b[0m\u001b[0;34m.\u001b[0m\u001b[0merror_handler\u001b[0m\u001b[0;34m.\u001b[0m\u001b[0mcheck_response\u001b[0m\u001b[0;34m(\u001b[0m\u001b[0mresponse\u001b[0m\u001b[0;34m)\u001b[0m\u001b[0;34m\u001b[0m\u001b[0;34m\u001b[0m\u001b[0m\n\u001b[0m\u001b[1;32m    322\u001b[0m             response['value'] = self._unwrap_value(\n\u001b[1;32m    323\u001b[0m                 response.get('value', None))\n",
      "\u001b[0;32m~/Desktop/linked-scraping/venv/lib/python3.9/site-packages/selenium/webdriver/remote/errorhandler.py\u001b[0m in \u001b[0;36mcheck_response\u001b[0;34m(self, response)\u001b[0m\n\u001b[1;32m    240\u001b[0m                 \u001b[0malert_text\u001b[0m \u001b[0;34m=\u001b[0m \u001b[0mvalue\u001b[0m\u001b[0;34m[\u001b[0m\u001b[0;34m'alert'\u001b[0m\u001b[0;34m]\u001b[0m\u001b[0;34m.\u001b[0m\u001b[0mget\u001b[0m\u001b[0;34m(\u001b[0m\u001b[0;34m'text'\u001b[0m\u001b[0;34m)\u001b[0m\u001b[0;34m\u001b[0m\u001b[0;34m\u001b[0m\u001b[0m\n\u001b[1;32m    241\u001b[0m             \u001b[0;32mraise\u001b[0m \u001b[0mexception_class\u001b[0m\u001b[0;34m(\u001b[0m\u001b[0mmessage\u001b[0m\u001b[0;34m,\u001b[0m \u001b[0mscreen\u001b[0m\u001b[0;34m,\u001b[0m \u001b[0mstacktrace\u001b[0m\u001b[0;34m,\u001b[0m \u001b[0malert_text\u001b[0m\u001b[0;34m)\u001b[0m\u001b[0;34m\u001b[0m\u001b[0;34m\u001b[0m\u001b[0m\n\u001b[0;32m--> 242\u001b[0;31m         \u001b[0;32mraise\u001b[0m \u001b[0mexception_class\u001b[0m\u001b[0;34m(\u001b[0m\u001b[0mmessage\u001b[0m\u001b[0;34m,\u001b[0m \u001b[0mscreen\u001b[0m\u001b[0;34m,\u001b[0m \u001b[0mstacktrace\u001b[0m\u001b[0;34m)\u001b[0m\u001b[0;34m\u001b[0m\u001b[0;34m\u001b[0m\u001b[0m\n\u001b[0m\u001b[1;32m    243\u001b[0m \u001b[0;34m\u001b[0m\u001b[0m\n\u001b[1;32m    244\u001b[0m     \u001b[0;32mdef\u001b[0m \u001b[0m_value_or_default\u001b[0m\u001b[0;34m(\u001b[0m\u001b[0mself\u001b[0m\u001b[0;34m,\u001b[0m \u001b[0mobj\u001b[0m\u001b[0;34m,\u001b[0m \u001b[0mkey\u001b[0m\u001b[0;34m,\u001b[0m \u001b[0mdefault\u001b[0m\u001b[0;34m)\u001b[0m\u001b[0;34m:\u001b[0m\u001b[0;34m\u001b[0m\u001b[0;34m\u001b[0m\u001b[0m\n",
      "\u001b[0;31mNoSuchElementException\u001b[0m: Message: no such element: Unable to locate element: {\"method\":\"css selector\",\"selector\":\"a\"}\n  (Session info: chrome=92.0.4515.159)\n"
     ]
    }
   ],
   "source": [
    "for v,i in enumerate(list_of_results):\n",
    "    print(v,'=====',i.find_element_by_tag_name('a').get_attribute('href'))"
   ]
  },
  {
   "cell_type": "code",
   "execution_count": 175,
   "id": "885046ee",
   "metadata": {},
   "outputs": [
    {
     "data": {
      "text/plain": [
       "25"
      ]
     },
     "execution_count": 175,
     "metadata": {},
     "output_type": "execute_result"
    }
   ],
   "source": [
    "len(list_of_results)"
   ]
  },
  {
   "cell_type": "code",
   "execution_count": 178,
   "id": "6ab58545",
   "metadata": {
    "collapsed": true
   },
   "outputs": [
    {
     "ename": "JavascriptException",
     "evalue": "Message: javascript error: arguments[0].scrollIntoView is not a function\n  (Session info: chrome=92.0.4515.159)\n",
     "output_type": "error",
     "traceback": [
      "\u001b[0;31m---------------------------------------------------------------------------\u001b[0m",
      "\u001b[0;31mJavascriptException\u001b[0m                       Traceback (most recent call last)",
      "\u001b[0;32m/tmp/ipykernel_34408/3662090019.py\u001b[0m in \u001b[0;36m<module>\u001b[0;34m\u001b[0m\n\u001b[0;32m----> 1\u001b[0;31m \u001b[0mdriver\u001b[0m\u001b[0;34m.\u001b[0m\u001b[0mexecute_script\u001b[0m\u001b[0;34m(\u001b[0m\u001b[0;34m\"arguments[0].scrollIntoView();\"\u001b[0m\u001b[0;34m,\u001b[0m \u001b[0;34m'occludable-update'\u001b[0m\u001b[0;34m)\u001b[0m\u001b[0;34m\u001b[0m\u001b[0;34m\u001b[0m\u001b[0m\n\u001b[0m",
      "\u001b[0;32m~/Desktop/linked-scraping/venv/lib/python3.9/site-packages/selenium/webdriver/remote/webdriver.py\u001b[0m in \u001b[0;36mexecute_script\u001b[0;34m(self, script, *args)\u001b[0m\n\u001b[1;32m    632\u001b[0m             \u001b[0mcommand\u001b[0m \u001b[0;34m=\u001b[0m \u001b[0mCommand\u001b[0m\u001b[0;34m.\u001b[0m\u001b[0mEXECUTE_SCRIPT\u001b[0m\u001b[0;34m\u001b[0m\u001b[0;34m\u001b[0m\u001b[0m\n\u001b[1;32m    633\u001b[0m \u001b[0;34m\u001b[0m\u001b[0m\n\u001b[0;32m--> 634\u001b[0;31m         return self.execute(command, {\n\u001b[0m\u001b[1;32m    635\u001b[0m             \u001b[0;34m'script'\u001b[0m\u001b[0;34m:\u001b[0m \u001b[0mscript\u001b[0m\u001b[0;34m,\u001b[0m\u001b[0;34m\u001b[0m\u001b[0;34m\u001b[0m\u001b[0m\n\u001b[1;32m    636\u001b[0m             'args': converted_args})['value']\n",
      "\u001b[0;32m~/Desktop/linked-scraping/venv/lib/python3.9/site-packages/selenium/webdriver/remote/webdriver.py\u001b[0m in \u001b[0;36mexecute\u001b[0;34m(self, driver_command, params)\u001b[0m\n\u001b[1;32m    319\u001b[0m         \u001b[0mresponse\u001b[0m \u001b[0;34m=\u001b[0m \u001b[0mself\u001b[0m\u001b[0;34m.\u001b[0m\u001b[0mcommand_executor\u001b[0m\u001b[0;34m.\u001b[0m\u001b[0mexecute\u001b[0m\u001b[0;34m(\u001b[0m\u001b[0mdriver_command\u001b[0m\u001b[0;34m,\u001b[0m \u001b[0mparams\u001b[0m\u001b[0;34m)\u001b[0m\u001b[0;34m\u001b[0m\u001b[0;34m\u001b[0m\u001b[0m\n\u001b[1;32m    320\u001b[0m         \u001b[0;32mif\u001b[0m \u001b[0mresponse\u001b[0m\u001b[0;34m:\u001b[0m\u001b[0;34m\u001b[0m\u001b[0;34m\u001b[0m\u001b[0m\n\u001b[0;32m--> 321\u001b[0;31m             \u001b[0mself\u001b[0m\u001b[0;34m.\u001b[0m\u001b[0merror_handler\u001b[0m\u001b[0;34m.\u001b[0m\u001b[0mcheck_response\u001b[0m\u001b[0;34m(\u001b[0m\u001b[0mresponse\u001b[0m\u001b[0;34m)\u001b[0m\u001b[0;34m\u001b[0m\u001b[0;34m\u001b[0m\u001b[0m\n\u001b[0m\u001b[1;32m    322\u001b[0m             response['value'] = self._unwrap_value(\n\u001b[1;32m    323\u001b[0m                 response.get('value', None))\n",
      "\u001b[0;32m~/Desktop/linked-scraping/venv/lib/python3.9/site-packages/selenium/webdriver/remote/errorhandler.py\u001b[0m in \u001b[0;36mcheck_response\u001b[0;34m(self, response)\u001b[0m\n\u001b[1;32m    240\u001b[0m                 \u001b[0malert_text\u001b[0m \u001b[0;34m=\u001b[0m \u001b[0mvalue\u001b[0m\u001b[0;34m[\u001b[0m\u001b[0;34m'alert'\u001b[0m\u001b[0;34m]\u001b[0m\u001b[0;34m.\u001b[0m\u001b[0mget\u001b[0m\u001b[0;34m(\u001b[0m\u001b[0;34m'text'\u001b[0m\u001b[0;34m)\u001b[0m\u001b[0;34m\u001b[0m\u001b[0;34m\u001b[0m\u001b[0m\n\u001b[1;32m    241\u001b[0m             \u001b[0;32mraise\u001b[0m \u001b[0mexception_class\u001b[0m\u001b[0;34m(\u001b[0m\u001b[0mmessage\u001b[0m\u001b[0;34m,\u001b[0m \u001b[0mscreen\u001b[0m\u001b[0;34m,\u001b[0m \u001b[0mstacktrace\u001b[0m\u001b[0;34m,\u001b[0m \u001b[0malert_text\u001b[0m\u001b[0;34m)\u001b[0m\u001b[0;34m\u001b[0m\u001b[0;34m\u001b[0m\u001b[0m\n\u001b[0;32m--> 242\u001b[0;31m         \u001b[0;32mraise\u001b[0m \u001b[0mexception_class\u001b[0m\u001b[0;34m(\u001b[0m\u001b[0mmessage\u001b[0m\u001b[0;34m,\u001b[0m \u001b[0mscreen\u001b[0m\u001b[0;34m,\u001b[0m \u001b[0mstacktrace\u001b[0m\u001b[0;34m)\u001b[0m\u001b[0;34m\u001b[0m\u001b[0;34m\u001b[0m\u001b[0m\n\u001b[0m\u001b[1;32m    243\u001b[0m \u001b[0;34m\u001b[0m\u001b[0m\n\u001b[1;32m    244\u001b[0m     \u001b[0;32mdef\u001b[0m \u001b[0m_value_or_default\u001b[0m\u001b[0;34m(\u001b[0m\u001b[0mself\u001b[0m\u001b[0;34m,\u001b[0m \u001b[0mobj\u001b[0m\u001b[0;34m,\u001b[0m \u001b[0mkey\u001b[0m\u001b[0;34m,\u001b[0m \u001b[0mdefault\u001b[0m\u001b[0;34m)\u001b[0m\u001b[0;34m:\u001b[0m\u001b[0;34m\u001b[0m\u001b[0;34m\u001b[0m\u001b[0m\n",
      "\u001b[0;31mJavascriptException\u001b[0m: Message: javascript error: arguments[0].scrollIntoView is not a function\n  (Session info: chrome=92.0.4515.159)\n"
     ]
    }
   ],
   "source": [
    "driver.execute_script(\"arguments[0].scrollIntoView();\", 'occludable-update')"
   ]
  },
  {
   "cell_type": "code",
   "execution_count": 182,
   "id": "46ac8d7a",
   "metadata": {},
   "outputs": [],
   "source": [
    "# get a list of all the listings elements's in the side bar\n",
    "list_items = driver.find_elements_by_class_name(\"occludable-update\")\n",
    "# scrolls a single page:\n",
    "for job in list_items:\n",
    "    # executes JavaScript to scroll the div into view\n",
    "    driver.execute_script(\"arguments[0].scrollIntoView();\", job)\n",
    "#     job.click()\n",
    "    time.sleep(3)\n"
   ]
  },
  {
   "cell_type": "code",
   "execution_count": 191,
   "id": "af899d66",
   "metadata": {},
   "outputs": [
    {
     "name": "stdout",
     "output_type": "stream",
     "text": [
      "0 ======== https://www.linkedin.com/jobs/view/2682944157/?eBP=JOB_SEARCH_ORGANIC&recommendedFlavor=JOB_SEEKER_QUALIFIED&refId=hK%2Fzt9iuhNYRZW6fyv7jVg%3D%3D&trackingId=RIyVaCkcGwHU4gDNxPH9Ug%3D%3D&trk=flagship3_search_srp_jobs\n",
      "1 ======== https://www.linkedin.com/jobs/view/2688190977/?eBP=JOB_SEARCH_ORGANIC&recommendedFlavor=ACTIVELY_HIRING_COMPANY&refId=hK%2Fzt9iuhNYRZW6fyv7jVg%3D%3D&trackingId=z1biuI%2BbzsyB2kZdOpLsmw%3D%3D&trk=flagship3_search_srp_jobs\n",
      "2 ======== https://www.linkedin.com/jobs/view/2688172953/?eBP=JOB_SEARCH_ORGANIC&recommendedFlavor=ACTIVELY_HIRING_COMPANY&refId=hK%2Fzt9iuhNYRZW6fyv7jVg%3D%3D&trackingId=%2BjOMD21veP%2FN9a9uTer%2Fzw%3D%3D&trk=flagship3_search_srp_jobs\n",
      "3 ======== https://www.linkedin.com/jobs/view/2682945964/?eBP=JOB_SEARCH_ORGANIC&recommendedFlavor=JOB_SEEKER_QUALIFIED&refId=hK%2Fzt9iuhNYRZW6fyv7jVg%3D%3D&trackingId=AfeU8gvVdOE5o%2BK%2B2wMgpg%3D%3D&trk=flagship3_search_srp_jobs\n",
      "4 ======== https://www.linkedin.com/jobs/view/2682998071/?eBP=JOB_SEARCH_ORGANIC&recommendedFlavor=ACTIVELY_HIRING_COMPANY&refId=hK%2Fzt9iuhNYRZW6fyv7jVg%3D%3D&trackingId=jm%2BXTwuTnL6ce7sF4Xilug%3D%3D&trk=flagship3_search_srp_jobs\n",
      "5 ======== https://www.linkedin.com/jobs/view/2682388409/?eBP=JOB_SEARCH_ORGANIC&recommendedFlavor=ACTIVELY_HIRING_COMPANY&refId=hK%2Fzt9iuhNYRZW6fyv7jVg%3D%3D&trackingId=BQbVwHqIsXguA2tE9aRutQ%3D%3D&trk=flagship3_search_srp_jobs\n",
      "6 ======== https://www.linkedin.com/jobs/view/2682934373/?eBP=JOB_SEARCH_ORGANIC&recommendedFlavor=ACTIVELY_HIRING_COMPANY&refId=hK%2Fzt9iuhNYRZW6fyv7jVg%3D%3D&trackingId=X6uL%2B6CuPxWj0HvtmKJQgA%3D%3D&trk=flagship3_search_srp_jobs\n",
      "7 ======== https://www.linkedin.com/jobs/view/2687696289/?eBP=JOB_SEARCH_ORGANIC&recommendedFlavor=ACTIVELY_HIRING_COMPANY&refId=hK%2Fzt9iuhNYRZW6fyv7jVg%3D%3D&trackingId=SBo%2F1MXG%2BTVLkulVvfDCHg%3D%3D&trk=flagship3_search_srp_jobs\n",
      "8 ======== https://www.linkedin.com/jobs/view/2685599659/?eBP=JOB_SEARCH_ORGANIC&refId=hK%2Fzt9iuhNYRZW6fyv7jVg%3D%3D&trackingId=wUpZA7t4Ta%2BpssrDCyfwDA%3D%3D&trk=flagship3_search_srp_jobs\n",
      "9 ======== https://www.linkedin.com/jobs/view/2686209169/?eBP=JOB_SEARCH_ORGANIC&recommendedFlavor=JOB_SEEKER_QUALIFIED&refId=hK%2Fzt9iuhNYRZW6fyv7jVg%3D%3D&trackingId=71%2FDG9%2FKVOCd8xUxt14poQ%3D%3D&trk=flagship3_search_srp_jobs\n",
      "10 ======== https://www.linkedin.com/jobs/view/2688115722/?eBP=JOB_SEARCH_ORGANIC&recommendedFlavor=JOB_SEEKER_QUALIFIED&refId=hK%2Fzt9iuhNYRZW6fyv7jVg%3D%3D&trackingId=qtFgCZFcOv2XV6zYnw5j9w%3D%3D&trk=flagship3_search_srp_jobs\n",
      "11 ======== https://www.linkedin.com/jobs/view/2682908719/?eBP=JOB_SEARCH_ORGANIC&recommendedFlavor=ACTIVELY_HIRING_COMPANY&refId=hK%2Fzt9iuhNYRZW6fyv7jVg%3D%3D&trackingId=9ExKXRQW2cyapDD07HzLZw%3D%3D&trk=flagship3_search_srp_jobs\n",
      "12 ======== https://www.linkedin.com/jobs/view/2681808932/?eBP=JOB_SEARCH_ORGANIC&recommendedFlavor=ACTIVELY_HIRING_COMPANY&refId=hK%2Fzt9iuhNYRZW6fyv7jVg%3D%3D&trackingId=7mN%2FLXpqjrJUU%2Fo8zoj%2Fiw%3D%3D&trk=flagship3_search_srp_jobs\n",
      "13 ======== https://www.linkedin.com/jobs/view/2683504518/?eBP=JOB_SEARCH_ORGANIC&recommendedFlavor=ACTIVELY_HIRING_COMPANY&refId=hK%2Fzt9iuhNYRZW6fyv7jVg%3D%3D&trackingId=lSt0qsutSGvyAn%2FcnD0Uww%3D%3D&trk=flagship3_search_srp_jobs\n",
      "14 ======== https://www.linkedin.com/jobs/view/2686239123/?eBP=JOB_SEARCH_ORGANIC&recommendedFlavor=ACTIVELY_HIRING_COMPANY&refId=hK%2Fzt9iuhNYRZW6fyv7jVg%3D%3D&trackingId=fGEkKWWC4UR6rabouBPYuA%3D%3D&trk=flagship3_search_srp_jobs\n",
      "15 ======== https://www.linkedin.com/jobs/view/2687942770/?eBP=JOB_SEARCH_ORGANIC&refId=hK%2Fzt9iuhNYRZW6fyv7jVg%3D%3D&trackingId=r7EQ7qJhYU3JjxAECDz%2BKg%3D%3D&trk=flagship3_search_srp_jobs\n",
      "16 ======== https://www.linkedin.com/jobs/view/2682927656/?eBP=JOB_SEARCH_ORGANIC&refId=hK%2Fzt9iuhNYRZW6fyv7jVg%3D%3D&trackingId=GgET5BoRcnWVvGa6xt5ipQ%3D%3D&trk=flagship3_search_srp_jobs\n",
      "17 ======== https://www.linkedin.com/jobs/view/2682922258/?eBP=JOB_SEARCH_ORGANIC&recommendedFlavor=ACTIVELY_HIRING_COMPANY&refId=hK%2Fzt9iuhNYRZW6fyv7jVg%3D%3D&trackingId=%2FlwUl%2FV0BYEx4PuBo9XZNg%3D%3D&trk=flagship3_search_srp_jobs\n",
      "18 ======== https://www.linkedin.com/jobs/view/2687993304/?eBP=JOB_SEARCH_ORGANIC&refId=hK%2Fzt9iuhNYRZW6fyv7jVg%3D%3D&trackingId=o9bIr9m1WezEevGoApHXgg%3D%3D&trk=flagship3_search_srp_jobs\n",
      "19 ======== https://www.linkedin.com/jobs/view/2686235401/?eBP=JOB_SEARCH_ORGANIC&recommendedFlavor=ACTIVELY_HIRING_COMPANY&refId=hK%2Fzt9iuhNYRZW6fyv7jVg%3D%3D&trackingId=BopNLEzdi5JtNu4OAKKalA%3D%3D&trk=flagship3_search_srp_jobs\n",
      "20 ======== https://www.linkedin.com/jobs/view/2683538359/?eBP=JOB_SEARCH_ORGANIC&recommendedFlavor=ACTIVELY_HIRING_COMPANY&refId=hK%2Fzt9iuhNYRZW6fyv7jVg%3D%3D&trackingId=r5TdMrFx53vHj5a6mJ8Nqg%3D%3D&trk=flagship3_search_srp_jobs\n",
      "21 ======== https://www.linkedin.com/jobs/view/2683524797/?eBP=JOB_SEARCH_ORGANIC&recommendedFlavor=ACTIVELY_HIRING_COMPANY&refId=hK%2Fzt9iuhNYRZW6fyv7jVg%3D%3D&trackingId=GmA3nK4Dgu%2BEisGjO838Vg%3D%3D&trk=flagship3_search_srp_jobs\n",
      "22 ======== https://www.linkedin.com/jobs/view/2688222686/?eBP=JOB_SEARCH_ORGANIC&recommendedFlavor=ACTIVELY_HIRING_COMPANY&refId=hK%2Fzt9iuhNYRZW6fyv7jVg%3D%3D&trackingId=K9d8MWMCrI90LzKJ%2BxZbgg%3D%3D&trk=flagship3_search_srp_jobs\n",
      "23 ======== https://www.linkedin.com/jobs/view/2688240063/?eBP=JOB_SEARCH_ORGANIC&recommendedFlavor=ACTIVELY_HIRING_COMPANY&refId=hK%2Fzt9iuhNYRZW6fyv7jVg%3D%3D&trackingId=q7KbuPn1XPB5JqIhcBPqTw%3D%3D&trk=flagship3_search_srp_jobs\n",
      "24 ======== https://www.linkedin.com/jobs/view/2687721364/?eBP=JOB_SEARCH_ORGANIC&recommendedFlavor=ACTIVELY_HIRING_COMPANY&refId=hK%2Fzt9iuhNYRZW6fyv7jVg%3D%3D&trackingId=BobScIQ1QxyWK6BQE1i5sA%3D%3D&trk=flagship3_search_srp_jobs\n"
     ]
    }
   ],
   "source": [
    "for v, i in enumerate(list_items):\n",
    "    print(v,'========',i.find_element_by_tag_name('a').get_attribute('href'))"
   ]
  },
  {
   "cell_type": "code",
   "execution_count": null,
   "id": "053afd4f",
   "metadata": {},
   "outputs": [],
   "source": []
  }
 ],
 "metadata": {
  "kernelspec": {
   "display_name": "Python 3 (ipykernel)",
   "language": "python",
   "name": "python3"
  },
  "language_info": {
   "codemirror_mode": {
    "name": "ipython",
    "version": 3
   },
   "file_extension": ".py",
   "mimetype": "text/x-python",
   "name": "python",
   "nbconvert_exporter": "python",
   "pygments_lexer": "ipython3",
   "version": "3.9.5"
  }
 },
 "nbformat": 4,
 "nbformat_minor": 5
}
