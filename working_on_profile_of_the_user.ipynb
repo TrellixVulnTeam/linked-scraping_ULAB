{
 "cells": [
  {
   "cell_type": "code",
   "execution_count": 26,
   "id": "6b08e366",
   "metadata": {},
   "outputs": [],
   "source": [
    "from selenium import webdriver\n",
    "from selenium.webdriver.common.action_chains import ActionChains\n",
    "from selenium.webdriver.common.keys import Keys\n",
    "import selenium, time, scrapy\n",
    "from scrapy.selector import Selector"
   ]
  },
  {
   "cell_type": "code",
   "execution_count": null,
   "id": "4fd895c2",
   "metadata": {
    "scrolled": true
   },
   "outputs": [],
   "source": []
  },
  {
   "cell_type": "code",
   "execution_count": 2,
   "id": "6573723b",
   "metadata": {},
   "outputs": [],
   "source": [
    "driver = webdriver.Chrome('./chromedriver_linux64/chromedriver')"
   ]
  },
  {
   "cell_type": "code",
   "execution_count": 3,
   "id": "1c247858",
   "metadata": {},
   "outputs": [],
   "source": [
    "driver.get('https://www.linkedin.com/uas/login?session_redirect=https%3A%2F%2Fwww%2Elinkedin%2Ecom%2Ffeed%2F%3Ftrk%3Donboarding-landing&fromSignIn=true&trk=cold_join_sign_in')"
   ]
  },
  {
   "cell_type": "code",
   "execution_count": 4,
   "id": "24ba3f13",
   "metadata": {},
   "outputs": [],
   "source": [
    "username = driver.find_element_by_id('username')"
   ]
  },
  {
   "cell_type": "code",
   "execution_count": 5,
   "id": "8d1469b6",
   "metadata": {},
   "outputs": [],
   "source": [
    "username.clear()\n",
    "username.send_keys('User__id')"
   ]
  },
  {
   "cell_type": "code",
   "execution_count": 6,
   "id": "2b278617",
   "metadata": {},
   "outputs": [],
   "source": [
    "password = driver.find_element_by_id('password')"
   ]
  },
  {
   "cell_type": "code",
   "execution_count": 7,
   "id": "78bceab0",
   "metadata": {},
   "outputs": [],
   "source": [
    "password.clear()\n",
    "password.send_keys('User__pass')"
   ]
  },
  {
   "cell_type": "code",
   "execution_count": 8,
   "id": "990df8ed",
   "metadata": {},
   "outputs": [],
   "source": [
    "driver.find_element_by_class_name('btn__primary--large').click()"
   ]
  },
  {
   "cell_type": "code",
   "execution_count": 9,
   "id": "338457a1",
   "metadata": {},
   "outputs": [],
   "source": [
    "driver.get('https://www.linkedin.com/in/sanjaysheel8/?miniProfileUrn=urn%3Ali%3Afs_miniProfile%3AACoAACC1sk4B-YPL7tzvysPgEL9dwfPQIBssjFQ')"
   ]
  },
  {
   "cell_type": "code",
   "execution_count": null,
   "id": "f2f60bc2",
   "metadata": {},
   "outputs": [],
   "source": []
  },
  {
   "cell_type": "code",
   "execution_count": 10,
   "id": "8e4213de",
   "metadata": {},
   "outputs": [],
   "source": [
    "# tpage down using or scrolling using page down key\n",
    "for _ in range(12):\n",
    "    body = driver.find_element_by_tag_name('body')\n",
    "    body.send_keys(Keys.PAGE_DOWN)\n",
    "    time.sleep(5)"
   ]
  },
  {
   "cell_type": "code",
   "execution_count": 11,
   "id": "84510780",
   "metadata": {},
   "outputs": [],
   "source": [
    "# pv-profile-section__see-more-inline pv-profile-section__text-truncate-toggle\n",
    "#         artdeco-button artdeco-button--tertiary artdeco-button--muted"
   ]
  },
  {
   "cell_type": "code",
   "execution_count": 12,
   "id": "728620b9",
   "metadata": {},
   "outputs": [
    {
     "data": {
      "text/plain": [
       "'Show more'"
      ]
     },
     "execution_count": 12,
     "metadata": {},
     "output_type": "execute_result"
    }
   ],
   "source": [
    "driver.find_element_by_class_name('pv-profile-section__see-more-inline').text"
   ]
  },
  {
   "cell_type": "code",
   "execution_count": 15,
   "id": "2d7bd7b8",
   "metadata": {},
   "outputs": [
    {
     "name": "stdout",
     "output_type": "stream",
     "text": [
      "show5more\n",
      "show5more\n",
      "show4more\n",
      "showless\n"
     ]
    }
   ],
   "source": [
    "while 1:\n",
    "    get_text_show_more = driver.find_element_by_class_name('pv-profile-section__see-more-inline').text\n",
    "    get_text_show_more = get_text_show_more.lower().strip().replace('  ',\"\").replace(\" \",'')\n",
    "    print(get_text_show_more)\n",
    "    time.sleep(5)\n",
    "    driver.find_element_by_class_name('pv-profile-section__see-more-inline').click()\n",
    "    time.sleep(5)\n",
    "    if get_text_show_more == 'showless':\n",
    "        print('ending this loop')\n",
    "        break"
   ]
  },
  {
   "cell_type": "code",
   "execution_count": null,
   "id": "6c1b3710",
   "metadata": {},
   "outputs": [],
   "source": [
    "pv-profile-section__card-action-bar pv-skills-section__additional-skills artdeco-container-card-action-bar artdeco-button artdeco-button--tertiary artdeco-button--3 artdeco-button--fluid artdeco-button--muted"
   ]
  },
  {
   "cell_type": "code",
   "execution_count": 20,
   "id": "570ba4d5",
   "metadata": {},
   "outputs": [],
   "source": [
    "#aerow down of the skills of the user\n",
    "driver.find_element_by_class_name('pv-skills-section__additional-skills').click()"
   ]
  },
  {
   "cell_type": "code",
   "execution_count": 32,
   "id": "74759c0b",
   "metadata": {},
   "outputs": [],
   "source": [
    "# pv-skill-category-entity__name tooltip-container\n",
    "list_of_skills = driver.find_elements_by_class_name('pv-skill-category-entity__name')"
   ]
  },
  {
   "cell_type": "code",
   "execution_count": 33,
   "id": "86115889",
   "metadata": {
    "collapsed": true
   },
   "outputs": [
    {
     "name": "stdout",
     "output_type": "stream",
     "text": [
      "Python (Programming Language)\n",
      "Data Science\n",
      "Natural Language Processing (NLP)\n",
      "Data Analysis\n",
      "Machine Learning\n",
      "Data Mining\n",
      "C (Programming Language)\n",
      "C++\n",
      "Java\n",
      "Java Database Connectivity (JDBC)\n",
      "JavaScript\n",
      "HTML\n",
      "Cascading Style Sheets (CSS)\n",
      "Git\n",
      "Github\n",
      "SQL\n",
      "MySQL\n",
      "Eclipse\n",
      "pandas\n",
      "spaCy\n",
      "Tableau\n",
      "Linux\n",
      "Open Source Software\n",
      "Seaborn\n",
      "Ruby\n",
      "Django\n",
      "Scrapy\n",
      "Elasticsearch\n",
      "FastAPI\n",
      "Team Management\n",
      "Leadership\n",
      "team work\n",
      "NumPy\n",
      "NLTK\n",
      "Gitlab\n",
      "Matplotlib\n",
      "Data Analytics\n",
      "Scikit-Learn\n",
      "Web Scraping\n",
      "Codility\n",
      "OpenCV\n"
     ]
    }
   ],
   "source": [
    "#using loop print all the skills of the user\n",
    "\n",
    "for i in list_of_skills:\n",
    "    print(i.text)"
   ]
  },
  {
   "cell_type": "code",
   "execution_count": 39,
   "id": "5137e44b",
   "metadata": {},
   "outputs": [
    {
     "data": {
      "text/plain": [
       "'Swami Vivekanand College of Engineering, Khandwa Road, Near Tool Naka, Indore-452020 Degree Name Bachelor of Engineering - BE Field Of Study Information Technology Grade 7.56 cgpa Dates attended or expected graduation 2016 – 2020'"
      ]
     },
     "execution_count": 39,
     "metadata": {},
     "output_type": "execute_result"
    }
   ],
   "source": [
    "# here getting the list of the education \n",
    "driver.find_element_by_class_name('pv-education-entity').text.replace(\"\\n\",' ')"
   ]
  },
  {
   "cell_type": "code",
   "execution_count": null,
   "id": "6ba8717d",
   "metadata": {},
   "outputs": [],
   "source": [
    "pv-profile-section__sortable-item pv-certification-entity ember-view"
   ]
  },
  {
   "cell_type": "code",
   "execution_count": 80,
   "id": "5c6e2c2d",
   "metadata": {},
   "outputs": [],
   "source": [
    "# getting all the list of the certificate and licence\n",
    "list_of_certificate_and_licence = driver.find_elements_by_class_name('pv-certification-entity')"
   ]
  },
  {
   "cell_type": "code",
   "execution_count": 81,
   "id": "2ce29c89",
   "metadata": {},
   "outputs": [],
   "source": [
    "for i in list_of_certificate_and_licence:\n",
    "    # getting the certificate credential id \n",
    "    #     if class could not work and getting error so use try \n",
    "    try:\n",
    "        Credential_id = i.find_element_by_class_name('t-black--light').text\n",
    "    except Exception as e:\n",
    "        pass\n",
    "    \n",
    "    \n",
    "    # getting the name of the certificate\n",
    "    try:\n",
    "        title_of_the_certificate = i.find_element_by_class_name('t-16').text\n",
    "    except Exception as e:\n",
    "        pass\n",
    "    \n",
    "    \n",
    "    #getting the list of the ''issue_date'' and ''issue_by''\n",
    "    # and to get the data of it use len to run the range of loop\n",
    "    try:\n",
    "        list_of_issed_by_and_date = i.find_elements_by_class_name('t-14')[0]\n",
    "    except Exception as e:\n",
    "        pass\n",
    "    \n",
    "    #getting the link of the certificate    \n",
    "    try:\n",
    "        link_of_the_certificate = i.find_element_by_class_name('pv-certifications-entity__credential-link').get_attribute('href')\n",
    "    except Exception as e:\n",
    "        pass\n"
   ]
  },
  {
   "cell_type": "code",
   "execution_count": 82,
   "id": "3799d7b0",
   "metadata": {},
   "outputs": [],
   "source": [
    "# pv-certifications-entity__credential-link t-14 t-bold t-black--light ember-view"
   ]
  },
  {
   "cell_type": "code",
   "execution_count": 83,
   "id": "5aa446eb",
   "metadata": {},
   "outputs": [],
   "source": [
    "# This things can also be done using scrapy\n",
    "# res = Selector(text=driver.page_source)"
   ]
  },
  {
   "cell_type": "code",
   "execution_count": 86,
   "id": "6c693ff1",
   "metadata": {},
   "outputs": [
    {
     "data": {
      "text/plain": [
       "'Sanjay Sheel'"
      ]
     },
     "execution_count": 86,
     "metadata": {},
     "output_type": "execute_result"
    }
   ],
   "source": [
    "#gettomg the title name \n",
    "driver.find_element_by_class_name('text-heading-xlarge').text\n",
    "# inline t-24 v-align-middle break-words\n"
   ]
  },
  {
   "cell_type": "code",
   "execution_count": 88,
   "id": "da34ef97",
   "metadata": {},
   "outputs": [
    {
     "data": {
      "text/plain": [
       "'open to work as Software Developer 10K+ Followers | love to work for open source | Open CV | Python | Django | Data Engineer'"
      ]
     },
     "execution_count": 88,
     "metadata": {},
     "output_type": "execute_result"
    }
   ],
   "source": [
    "#getting the \n",
    "driver.find_element_by_class_name('text-body-medium').text"
   ]
  },
  {
   "cell_type": "markdown",
   "id": "7260c734",
   "metadata": {},
   "source": [
    "# texting to the user"
   ]
  },
  {
   "cell_type": "code",
   "execution_count": 103,
   "id": "09901151",
   "metadata": {},
   "outputs": [],
   "source": [
    "# clicking on the message box\n",
    "driver.find_element_by_class_name('message-anywhere-button').click()"
   ]
  },
  {
   "cell_type": "code",
   "execution_count": 106,
   "id": "130df29c",
   "metadata": {},
   "outputs": [],
   "source": [
    "# texting to the user\n",
    "driver.find_element_by_class_name('msg-form__contenteditable').send_keys('Hello sanjay...')"
   ]
  },
  {
   "cell_type": "code",
   "execution_count": 109,
   "id": "61497737",
   "metadata": {},
   "outputs": [],
   "source": [
    "# sending to the user by click on the send button\n",
    "driver.find_element_by_class_name('msg-form__send-button').text\n",
    "driver.find_element_by_class_name('msg-form__send-button').click()"
   ]
  },
  {
   "cell_type": "code",
   "execution_count": null,
   "id": "eae76a0d",
   "metadata": {},
   "outputs": [],
   "source": []
  },
  {
   "cell_type": "code",
   "execution_count": null,
   "id": "417a06cd",
   "metadata": {},
   "outputs": [],
   "source": []
  },
  {
   "cell_type": "markdown",
   "id": "e4fdd5fa",
   "metadata": {},
   "source": [
    "# getting about the user"
   ]
  },
  {
   "cell_type": "code",
   "execution_count": 121,
   "id": "a95f0372",
   "metadata": {},
   "outputs": [],
   "source": [
    "getting_list_of_header = driver.find_elements_by_class_name('pv-profile-section__card-header')"
   ]
  },
  {
   "cell_type": "code",
   "execution_count": 132,
   "id": "20f1a2b7",
   "metadata": {},
   "outputs": [
    {
     "name": "stdout",
     "output_type": "stream",
     "text": [
      "About\n",
      "Contracting and freelancing, Getting coffee.\n"
     ]
    }
   ],
   "source": [
    "for i in getting_list_of_header:\n",
    "    if i.text.lower().strip()=='about':\n",
    "        try:\n",
    "            driver.find_element_by_class_name('inline-show-more-text__button').click()\n",
    "        except Exception as e:\n",
    "            pass\n",
    "        time.sleep(5)\n",
    "        print(i.text)\n",
    "        print(driver.find_element_by_xpath('//*[contains(concat( \" \", @class, \" \" ), concat( \" \", \"t-14\", \" \" ))]').text)"
   ]
  },
  {
   "cell_type": "code",
   "execution_count": 111,
   "id": "9c2a1a58",
   "metadata": {},
   "outputs": [
    {
     "data": {
      "text/plain": [
       "'see more'"
      ]
     },
     "execution_count": 111,
     "metadata": {},
     "output_type": "execute_result"
    }
   ],
   "source": [
    "driver.find_element_by_class_name('inline-show-more-text__button').text"
   ]
  },
  {
   "cell_type": "code",
   "execution_count": 112,
   "id": "53dee131",
   "metadata": {},
   "outputs": [],
   "source": [
    "driver.find_element_by_class_name('inline-show-more-text__button').click()"
   ]
  },
  {
   "cell_type": "code",
   "execution_count": 113,
   "id": "b85bc6f6",
   "metadata": {},
   "outputs": [],
   "source": [
    "time.sleep(5)"
   ]
  },
  {
   "cell_type": "code",
   "execution_count": null,
   "id": "ac7dd996",
   "metadata": {},
   "outputs": [],
   "source": [
    "driver.find_element_by_class_name('iinline-show-more-text').text"
   ]
  },
  {
   "cell_type": "code",
   "execution_count": null,
   "id": "c96facce",
   "metadata": {},
   "outputs": [],
   "source": []
  },
  {
   "cell_type": "markdown",
   "id": "a2139ae8",
   "metadata": {},
   "source": [
    "# now to get the all activity working here"
   ]
  },
  {
   "cell_type": "code",
   "execution_count": 94,
   "id": "bf5741e9",
   "metadata": {},
   "outputs": [],
   "source": [
    "# pv-profile-section__card-action-bar artdeco-container-card-action-bar artdeco-button artdeco-button--tertiary artdeco-button--3 artdeco-button--fluid artdeco-button--muted ember-view\n",
    "driver.find_element_by_class_name('pv-profile-section__card-action-bar').click()"
   ]
  },
  {
   "cell_type": "code",
   "execution_count": 99,
   "id": "e8ee7205",
   "metadata": {},
   "outputs": [
    {
     "name": "stdout",
     "output_type": "stream",
     "text": [
      "this is posts\n"
     ]
    }
   ],
   "source": [
    "# artdeco-pill artdeco-pill--slate artdeco-pill--3 artdeco-pill--toggle ember-view pv-recent-activity-detail__pill mr2\n",
    "list_of_fileter_option = driver.find_elements_by_class_name('artdeco-pill--slate')\n",
    "for i in list_of_fileter_option:\n",
    "    if i.text.lower() == 'posts':\n",
    "        print('this is posts')\n",
    "        i.click()"
   ]
  },
  {
   "cell_type": "code",
   "execution_count": 100,
   "id": "e42fcdc0",
   "metadata": {},
   "outputs": [],
   "source": [
    "# this is for page down of the page\n",
    "for _ in range(12):\n",
    "    body = driver.find_element_by_tag_name('body')\n",
    "    body.send_keys(Keys.PAGE_DOWN)\n",
    "    time.sleep(5)"
   ]
  },
  {
   "cell_type": "code",
   "execution_count": null,
   "id": "b371c9ad",
   "metadata": {},
   "outputs": [],
   "source": []
  },
  {
   "cell_type": "code",
   "execution_count": null,
   "id": "26788bd8",
   "metadata": {},
   "outputs": [],
   "source": []
  },
  {
   "cell_type": "code",
   "execution_count": null,
   "id": "e3834a48",
   "metadata": {},
   "outputs": [],
   "source": []
  }
 ],
 "metadata": {
  "kernelspec": {
   "display_name": "Python 3 (ipykernel)",
   "language": "python",
   "name": "python3"
  },
  "language_info": {
   "codemirror_mode": {
    "name": "ipython",
    "version": 3
   },
   "file_extension": ".py",
   "mimetype": "text/x-python",
   "name": "python",
   "nbconvert_exporter": "python",
   "pygments_lexer": "ipython3",
   "version": "3.9.5"
  }
 },
 "nbformat": 4,
 "nbformat_minor": 5
}
